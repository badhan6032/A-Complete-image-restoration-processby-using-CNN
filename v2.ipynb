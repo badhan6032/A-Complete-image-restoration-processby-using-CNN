{
 "cells": [
  {
   "cell_type": "code",
   "execution_count": 1,
   "id": "ebb6d878",
   "metadata": {
    "scrolled": false
   },
   "outputs": [
    {
     "name": "stdout",
     "output_type": "stream",
     "text": [
      "WARNING:tensorflow:From C:\\Users\\mdsif\\anaconda3\\lib\\site-packages\\keras\\src\\losses.py:2976: The name tf.losses.sparse_softmax_cross_entropy is deprecated. Please use tf.compat.v1.losses.sparse_softmax_cross_entropy instead.\n",
      "\n"
     ]
    }
   ],
   "source": [
    "import numpy as np\n",
    "import cv2\n",
    "import os\n",
    "import zipfile\n",
    "from matplotlib import pyplot as plt\n",
    "from sklearn.model_selection import train_test_split\n",
    "from tensorflow.keras.layers import Conv2D, MaxPooling2D, Concatenate, Conv2DTranspose, Input, Activation, BatchNormalization, Dropout\n",
    "from tensorflow.keras.models import Model\n",
    "import tensorflow as tf\n",
    "from tensorflow.keras.preprocessing.image import img_to_array\n",
    "from PIL import Image\n",
    "from PIL import Image\n",
    "import os\n",
    "import matplotlib.pyplot as plt\n",
    "from sklearn.model_selection import train_test_split\n",
    "from tensorflow.keras.preprocessing.image import img_to_array, load_img\n",
    "from tensorflow.keras.layers import Input, Conv2D, MaxPooling2D, UpSampling2D, concatenate\n",
    "from tensorflow.keras.models import Model"
   ]
  },
  {
   "cell_type": "code",
   "execution_count": 2,
   "id": "e2bdea9a",
   "metadata": {},
   "outputs": [],
   "source": [
    "blur_dataset_path = 'blurdataset'"
   ]
  },
  {
   "cell_type": "code",
   "execution_count": 3,
   "id": "ad80e887",
   "metadata": {},
   "outputs": [],
   "source": [
    "blur_dataset = os.listdir(blur_dataset_path)"
   ]
  },
  {
   "cell_type": "code",
   "execution_count": 4,
   "id": "71939bd8",
   "metadata": {
    "scrolled": true
   },
   "outputs": [
    {
     "data": {
      "text/plain": [
       "['1.jpg',\n",
       " '10.jpg',\n",
       " '2.jpg',\n",
       " '3.jpg',\n",
       " '4.jpg',\n",
       " '5.jpg',\n",
       " '6.jpg',\n",
       " '7.jpg',\n",
       " '8.jpg',\n",
       " '9.jpg']"
      ]
     },
     "execution_count": 4,
     "metadata": {},
     "output_type": "execute_result"
    }
   ],
   "source": [
    "blur_dataset"
   ]
  },
  {
   "cell_type": "code",
   "execution_count": 5,
   "id": "c1ac0173",
   "metadata": {},
   "outputs": [],
   "source": [
    "noisy_dataset_path = 'noisy_images'"
   ]
  },
  {
   "cell_type": "code",
   "execution_count": 6,
   "id": "17e26082",
   "metadata": {},
   "outputs": [],
   "source": [
    "noisy_dataset = os.listdir(noisy_dataset_path)"
   ]
  },
  {
   "cell_type": "code",
   "execution_count": 7,
   "id": "4025d910",
   "metadata": {},
   "outputs": [
    {
     "data": {
      "text/plain": [
       "['0016.jpg',\n",
       " '0017.jpg',\n",
       " '0018.jpg',\n",
       " '0019.jpg',\n",
       " '1.jpg',\n",
       " '10.jpg',\n",
       " '2.jpg',\n",
       " '3.jpg',\n",
       " '4.jpg',\n",
       " '5.jpg',\n",
       " '8.jpg',\n",
       " '9.jpg']"
      ]
     },
     "execution_count": 7,
     "metadata": {},
     "output_type": "execute_result"
    }
   ],
   "source": [
    "noisy_dataset"
   ]
  },
  {
   "cell_type": "code",
   "execution_count": 8,
   "id": "671ddec9",
   "metadata": {},
   "outputs": [],
   "source": [
    "clean_img_path = 'clean_img'"
   ]
  },
  {
   "cell_type": "code",
   "execution_count": 9,
   "id": "12298e9f",
   "metadata": {},
   "outputs": [],
   "source": [
    "clean_img_dataset = os.listdir(clean_img_path)"
   ]
  },
  {
   "cell_type": "code",
   "execution_count": 10,
   "id": "32333ccb",
   "metadata": {},
   "outputs": [
    {
     "data": {
      "text/plain": [
       "['1.jpg',\n",
       " '10.jpg',\n",
       " '2.png',\n",
       " '3.jpg',\n",
       " '4.jpg',\n",
       " '5.jpg',\n",
       " '6.jpg',\n",
       " '7.jpg',\n",
       " '8.jpg',\n",
       " '9.jpeg']"
      ]
     },
     "execution_count": 10,
     "metadata": {},
     "output_type": "execute_result"
    }
   ],
   "source": [
    "clean_img_dataset"
   ]
  },
  {
   "cell_type": "code",
   "execution_count": 11,
   "id": "de6bc4aa",
   "metadata": {
    "scrolled": false
   },
   "outputs": [
    {
     "name": "stdout",
     "output_type": "stream",
     "text": [
      "Checking if directories exist:\n",
      "Directory confirmed: E:\\Study with Python\\Image processing\\Version_1\\blurdataset\n",
      "Directory confirmed: E:\\Study with Python\\Image processing\\Version_1\\noisy_images\n",
      "Directory confirmed: E:\\Study with Python\\Image processing\\Version_1\\clean_img\n",
      "Loaded: E:\\Study with Python\\Image processing\\Version_1\\blurdataset\\1.jpg\n",
      "Loaded: E:\\Study with Python\\Image processing\\Version_1\\noisy_images\\1.jpg\n",
      "Loaded: E:\\Study with Python\\Image processing\\Version_1\\clean_img\\1.jpg\n",
      "Loaded: E:\\Study with Python\\Image processing\\Version_1\\blurdataset\\2.jpg\n",
      "Loaded: E:\\Study with Python\\Image processing\\Version_1\\noisy_images\\2.jpg\n",
      "File not found: E:\\Study with Python\\Image processing\\Version_1\\clean_img\\2.jpg\n",
      "Loaded: E:\\Study with Python\\Image processing\\Version_1\\blurdataset\\3.jpg\n",
      "Loaded: E:\\Study with Python\\Image processing\\Version_1\\noisy_images\\3.jpg\n",
      "Loaded: E:\\Study with Python\\Image processing\\Version_1\\clean_img\\3.jpg\n",
      "Loaded: E:\\Study with Python\\Image processing\\Version_1\\blurdataset\\4.jpg\n",
      "Loaded: E:\\Study with Python\\Image processing\\Version_1\\noisy_images\\4.jpg\n",
      "Loaded: E:\\Study with Python\\Image processing\\Version_1\\clean_img\\4.jpg\n",
      "Loaded: E:\\Study with Python\\Image processing\\Version_1\\blurdataset\\5.jpg\n",
      "Loaded: E:\\Study with Python\\Image processing\\Version_1\\noisy_images\\5.jpg\n",
      "Loaded: E:\\Study with Python\\Image processing\\Version_1\\clean_img\\5.jpg\n",
      "Loaded: E:\\Study with Python\\Image processing\\Version_1\\blurdataset\\6.jpg\n",
      "File not found: E:\\Study with Python\\Image processing\\Version_1\\noisy_images\\6.jpg\n",
      "Loaded: E:\\Study with Python\\Image processing\\Version_1\\clean_img\\6.jpg\n",
      "Loaded: E:\\Study with Python\\Image processing\\Version_1\\blurdataset\\7.jpg\n",
      "File not found: E:\\Study with Python\\Image processing\\Version_1\\noisy_images\\7.jpg\n",
      "Loaded: E:\\Study with Python\\Image processing\\Version_1\\clean_img\\7.jpg\n",
      "Loaded: E:\\Study with Python\\Image processing\\Version_1\\blurdataset\\8.jpg\n",
      "Loaded: E:\\Study with Python\\Image processing\\Version_1\\noisy_images\\8.jpg\n",
      "Loaded: E:\\Study with Python\\Image processing\\Version_1\\clean_img\\8.jpg\n",
      "Loaded: E:\\Study with Python\\Image processing\\Version_1\\blurdataset\\9.jpg\n",
      "Loaded: E:\\Study with Python\\Image processing\\Version_1\\noisy_images\\9.jpg\n",
      "File not found: E:\\Study with Python\\Image processing\\Version_1\\clean_img\\9.jpg\n",
      "Loaded: E:\\Study with Python\\Image processing\\Version_1\\blurdataset\\10.jpg\n",
      "Loaded: E:\\Study with Python\\Image processing\\Version_1\\noisy_images\\10.jpg\n",
      "Loaded: E:\\Study with Python\\Image processing\\Version_1\\clean_img\\10.jpg\n",
      "Number of blur images loaded: 10\n",
      "Number of noisy images loaded: 8\n",
      "Number of clean images loaded: 8\n"
     ]
    }
   ],
   "source": [
    "import os\n",
    "from PIL import Image\n",
    "import numpy as np\n",
    "from skimage.transform import resize\n",
    "\n",
    "\n",
    "image_height, image_width = 256, 256\n",
    "\n",
    "blur_images = []\n",
    "noisy_images = []\n",
    "clean_images = []\n",
    "\n",
    "\n",
    "blur_dataset_path = r'E:\\Study with Python\\Image processing\\Version_1\\blurdataset'\n",
    "noisy_dataset_path = r'E:\\Study with Python\\Image processing\\Version_1\\noisy_images'\n",
    "clean_img_path = r'E:\\Study with Python\\Image processing\\Version_1\\clean_img'\n",
    "\n",
    "# Verify if the directories exist\n",
    "print(\"Checking if directories exist:\")\n",
    "for path in [blur_dataset_path, noisy_dataset_path, clean_img_path]:\n",
    "    if not os.path.isdir(path):\n",
    "        print(f\"Directory does not exist: {path}\")\n",
    "    else:\n",
    "        print(f\"Directory confirmed: {path}\")\n",
    "\n",
    "for i in range(1, 11):\n",
    "    blur_image_file = f'{i}.jpg'\n",
    "    noisy_image_file = f'{i}.jpg'\n",
    "    clean_image_file = f'{i}.jpg'\n",
    "    \n",
    "    blur_image_path = os.path.join(blur_dataset_path, blur_image_file)\n",
    "    noisy_image_path = os.path.join(noisy_dataset_path, noisy_image_file)\n",
    "    clean_image_path = os.path.join(clean_img_path, clean_image_file)\n",
    "    \n",
    " \n",
    "    if os.path.exists(blur_image_path):\n",
    "        blur_image = Image.open(blur_image_path).convert('RGB')\n",
    "        blur_image = resize(np.array(blur_image), (image_height, image_width), anti_aliasing=True)\n",
    "        blur_images.append(blur_image / 255.0) # Normalize to [0, 1]\n",
    "        print(f\"Loaded: {blur_image_path}\")\n",
    "    else:\n",
    "        print(f\"File not found: {blur_image_path}\")\n",
    "    \n",
    "   \n",
    "    if os.path.exists(noisy_image_path):\n",
    "        noisy_image = Image.open(noisy_image_path).convert('RGB')\n",
    "        noisy_image = resize(np.array(noisy_image), (image_height, image_width), anti_aliasing=True)\n",
    "        noisy_images.append(noisy_image / 255.0) # Normalize to [0, 1]\n",
    "        print(f\"Loaded: {noisy_image_path}\")\n",
    "    else:\n",
    "        print(f\"File not found: {noisy_image_path}\")\n",
    "    \n",
    "   \n",
    "    if os.path.exists(clean_image_path):\n",
    "        clean_image = Image.open(clean_image_path).convert('RGB')\n",
    "        clean_image = resize(np.array(clean_image), (image_height, image_width), anti_aliasing=True)\n",
    "        clean_images.append(clean_image / 255.0) # Normalize to [0, 1]\n",
    "        print(f\"Loaded: {clean_image_path}\")\n",
    "    else:\n",
    "        print(f\"File not found: {clean_image_path}\")\n",
    "\n",
    "\n",
    "blur_images_np = np.array(blur_images, dtype=np.float32)\n",
    "noisy_images_np = np.array(noisy_images, dtype=np.float32)\n",
    "clean_images_np = np.array(clean_images, dtype=np.float32)\n",
    "\n",
    "\n",
    "print(f\"Number of blur images loaded: {len(blur_images_np)}\")\n",
    "print(f\"Number of noisy images loaded: {len(noisy_images_np)}\")\n",
    "print(f\"Number of clean images loaded: {len(clean_images_np)}\")"
   ]
  },
  {
   "cell_type": "code",
   "execution_count": 17,
   "id": "d2cce4a9",
   "metadata": {},
   "outputs": [],
   "source": [
    "from sklearn.model_selection import train_test_split\n",
    "\n",
    "\n",
    "# Split datasets into training (60%) and temporary (40%) sets\n",
    "X_train_noisy, X_temp_noisy, X_train_clean, X_temp_clean = train_test_split(\n",
    "    noisy_images_np, clean_images_np, test_size=0.4, random_state=42\n",
    ")\n",
    "\n",
    "# Further split the temporary set into validation and test sets, each 20% of the original\n",
    "X_val_noisy, X_test_noisy, X_val_clean, X_test_clean = train_test_split(\n",
    "    X_temp_noisy, X_temp_clean, test_size=0.5, random_state=42\n",
    ")\n"
   ]
  },
  {
   "cell_type": "code",
   "execution_count": 18,
   "id": "3614584f",
   "metadata": {
    "scrolled": true
   },
   "outputs": [
    {
     "name": "stdout",
     "output_type": "stream",
     "text": [
      "Model: \"model_1\"\n",
      "__________________________________________________________________________________________________\n",
      " Layer (type)                Output Shape                 Param #   Connected to                  \n",
      "==================================================================================================\n",
      " input_2 (InputLayer)        [(None, 256, 256, 3)]        0         []                            \n",
      "                                                                                                  \n",
      " conv2d_11 (Conv2D)          (None, 256, 256, 64)         1792      ['input_2[0][0]']             \n",
      "                                                                                                  \n",
      " conv2d_12 (Conv2D)          (None, 256, 256, 64)         36928     ['conv2d_11[0][0]']           \n",
      "                                                                                                  \n",
      " max_pooling2d_2 (MaxPoolin  (None, 128, 128, 64)         0         ['conv2d_12[0][0]']           \n",
      " g2D)                                                                                             \n",
      "                                                                                                  \n",
      " conv2d_13 (Conv2D)          (None, 128, 128, 128)        73856     ['max_pooling2d_2[0][0]']     \n",
      "                                                                                                  \n",
      " conv2d_14 (Conv2D)          (None, 128, 128, 128)        147584    ['conv2d_13[0][0]']           \n",
      "                                                                                                  \n",
      " max_pooling2d_3 (MaxPoolin  (None, 64, 64, 128)          0         ['conv2d_14[0][0]']           \n",
      " g2D)                                                                                             \n",
      "                                                                                                  \n",
      " conv2d_15 (Conv2D)          (None, 64, 64, 256)          295168    ['max_pooling2d_3[0][0]']     \n",
      "                                                                                                  \n",
      " conv2d_16 (Conv2D)          (None, 64, 64, 256)          590080    ['conv2d_15[0][0]']           \n",
      "                                                                                                  \n",
      " up_sampling2d_2 (UpSamplin  (None, 128, 128, 256)        0         ['conv2d_16[0][0]']           \n",
      " g2D)                                                                                             \n",
      "                                                                                                  \n",
      " concatenate_2 (Concatenate  (None, 128, 128, 384)        0         ['conv2d_14[0][0]',           \n",
      " )                                                                   'up_sampling2d_2[0][0]']     \n",
      "                                                                                                  \n",
      " conv2d_17 (Conv2D)          (None, 128, 128, 128)        442496    ['concatenate_2[0][0]']       \n",
      "                                                                                                  \n",
      " conv2d_18 (Conv2D)          (None, 128, 128, 128)        147584    ['conv2d_17[0][0]']           \n",
      "                                                                                                  \n",
      " up_sampling2d_3 (UpSamplin  (None, 256, 256, 128)        0         ['conv2d_18[0][0]']           \n",
      " g2D)                                                                                             \n",
      "                                                                                                  \n",
      " concatenate_3 (Concatenate  (None, 256, 256, 192)        0         ['conv2d_12[0][0]',           \n",
      " )                                                                   'up_sampling2d_3[0][0]']     \n",
      "                                                                                                  \n",
      " conv2d_19 (Conv2D)          (None, 256, 256, 64)         110656    ['concatenate_3[0][0]']       \n",
      "                                                                                                  \n",
      " conv2d_20 (Conv2D)          (None, 256, 256, 64)         36928     ['conv2d_19[0][0]']           \n",
      "                                                                                                  \n",
      " conv2d_21 (Conv2D)          (None, 256, 256, 3)          195       ['conv2d_20[0][0]']           \n",
      "                                                                                                  \n",
      "==================================================================================================\n",
      "Total params: 1883267 (7.18 MB)\n",
      "Trainable params: 1883267 (7.18 MB)\n",
      "Non-trainable params: 0 (0.00 Byte)\n",
      "__________________________________________________________________________________________________\n"
     ]
    }
   ],
   "source": [
    "def unet_model(input_size=(256, 256, 3)):\n",
    "    inputs = Input(input_size)\n",
    "    \n",
    "    # Encoder\n",
    "    conv1 = Conv2D(64, (3, 3), activation='relu', padding='same')(inputs)\n",
    "    conv1 = Conv2D(64, (3, 3), activation='relu', padding='same')(conv1)\n",
    "    pool1 = MaxPooling2D(pool_size=(2, 2))(conv1)\n",
    "\n",
    "    conv2 = Conv2D(128, (3, 3), activation='relu', padding='same')(pool1)\n",
    "    conv2 = Conv2D(128, (3, 3), activation='relu', padding='same')(conv2)\n",
    "    pool2 = MaxPooling2D(pool_size=(2, 2))(conv2)\n",
    "\n",
    "    # Bottleneck\n",
    "    conv3 = Conv2D(256, (3, 3), activation='relu', padding='same')(pool2)\n",
    "    conv3 = Conv2D(256, (3, 3), activation='relu', padding='same')(conv3)\n",
    "\n",
    "    # Decoder\n",
    "    up1 = UpSampling2D(size=(2, 2))(conv3)\n",
    "    merge1 = concatenate([conv2, up1], axis=3)\n",
    "    conv4 = Conv2D(128, (3, 3), activation='relu', padding='same')(merge1)\n",
    "    conv4 = Conv2D(128, (3, 3), activation='relu', padding='same')(conv4)\n",
    "\n",
    "    up2 = UpSampling2D(size=(2, 2))(conv4)\n",
    "    merge2 = concatenate([conv1, up2], axis=3)\n",
    "    conv5 = Conv2D(64, (3, 3), activation='relu', padding='same')(merge2)\n",
    "    conv5 = Conv2D(64, (3, 3), activation='relu', padding='same')(conv5)\n",
    "\n",
    "    # Output layer\n",
    "    outputs = Conv2D(3, (1, 1), activation='sigmoid')(conv5)\n",
    "\n",
    "    model = Model(inputs=inputs, outputs=outputs)\n",
    "    return model\n",
    "\n",
    "# Instantiate the model\n",
    "model = unet_model()\n",
    "\n",
    "# Compile the model\n",
    "model.compile(optimizer='adam', loss='mean_squared_error', metrics=['accuracy'])\n",
    "\n",
    "# Print the model summary to verify the architecture\n",
    "model.summary()"
   ]
  },
  {
   "cell_type": "code",
   "execution_count": 20,
   "id": "19c2f5ff",
   "metadata": {
    "scrolled": false
   },
   "outputs": [
    {
     "name": "stdout",
     "output_type": "stream",
     "text": [
      "Epoch 1/20\n",
      "1/1 [==============================] - 12s 12s/step - loss: 0.2478 - accuracy: 0.2081 - val_loss: 0.2467 - val_accuracy: 0.0651\n",
      "Epoch 2/20\n",
      "1/1 [==============================] - 10s 10s/step - loss: 0.2466 - accuracy: 0.1979 - val_loss: 0.2430 - val_accuracy: 0.0651\n",
      "Epoch 3/20\n",
      "1/1 [==============================] - 9s 9s/step - loss: 0.2430 - accuracy: 0.1979 - val_loss: 0.2302 - val_accuracy: 0.0660\n",
      "Epoch 4/20\n",
      "1/1 [==============================] - 10s 10s/step - loss: 0.2301 - accuracy: 0.1978 - val_loss: 0.1801 - val_accuracy: 0.0682\n",
      "Epoch 5/20\n",
      "1/1 [==============================] - 10s 10s/step - loss: 0.1801 - accuracy: 0.1994 - val_loss: 0.0524 - val_accuracy: 0.0696\n",
      "Epoch 6/20\n",
      "1/1 [==============================] - 10s 10s/step - loss: 0.0523 - accuracy: 0.2003 - val_loss: 8.5404e-04 - val_accuracy: 0.0630\n",
      "Epoch 7/20\n",
      "1/1 [==============================] - 9s 9s/step - loss: 8.5197e-04 - accuracy: 0.1955 - val_loss: 1.6942e-05 - val_accuracy: 0.0217\n",
      "Epoch 8/20\n",
      "1/1 [==============================] - 9s 9s/step - loss: 1.7529e-05 - accuracy: 0.2490 - val_loss: 6.0515e-06 - val_accuracy: 0.0152\n",
      "Epoch 9/20\n",
      "1/1 [==============================] - 10s 10s/step - loss: 6.7890e-06 - accuracy: 0.2523 - val_loss: 5.6319e-06 - val_accuracy: 0.8808\n",
      "Epoch 10/20\n",
      "1/1 [==============================] - 14s 14s/step - loss: 6.3690e-06 - accuracy: 0.5247 - val_loss: 5.6238e-06 - val_accuracy: 0.9128\n",
      "Epoch 11/20\n",
      "1/1 [==============================] - 14s 14s/step - loss: 6.3610e-06 - accuracy: 0.5387 - val_loss: 5.6238e-06 - val_accuracy: 0.9210\n",
      "Epoch 12/20\n",
      "1/1 [==============================] - 14s 14s/step - loss: 6.3610e-06 - accuracy: 0.5424 - val_loss: 5.6238e-06 - val_accuracy: 0.9317\n",
      "Epoch 13/20\n",
      "1/1 [==============================] - 14s 14s/step - loss: 6.3610e-06 - accuracy: 0.5472 - val_loss: 5.6238e-06 - val_accuracy: 0.9319\n",
      "Epoch 14/20\n",
      "1/1 [==============================] - 15s 15s/step - loss: 6.3610e-06 - accuracy: 0.5473 - val_loss: 5.6238e-06 - val_accuracy: 0.9320\n",
      "Epoch 15/20\n",
      "1/1 [==============================] - 14s 14s/step - loss: 6.3610e-06 - accuracy: 0.5473 - val_loss: 5.6238e-06 - val_accuracy: 0.9321\n",
      "Epoch 16/20\n",
      "1/1 [==============================] - 14s 14s/step - loss: 6.3610e-06 - accuracy: 0.5473 - val_loss: 5.6238e-06 - val_accuracy: 0.9321\n",
      "Epoch 17/20\n",
      "1/1 [==============================] - 12s 12s/step - loss: 6.3610e-06 - accuracy: 0.5473 - val_loss: 5.6238e-06 - val_accuracy: 0.9321\n",
      "Epoch 18/20\n",
      "1/1 [==============================] - 10s 10s/step - loss: 6.3610e-06 - accuracy: 0.5474 - val_loss: 5.6238e-06 - val_accuracy: 0.9321\n",
      "Epoch 19/20\n",
      "1/1 [==============================] - 9s 9s/step - loss: 6.3610e-06 - accuracy: 0.5474 - val_loss: 5.6238e-06 - val_accuracy: 0.9321\n",
      "Epoch 20/20\n",
      "1/1 [==============================] - 10s 10s/step - loss: 6.3610e-06 - accuracy: 0.5474 - val_loss: 5.6238e-06 - val_accuracy: 0.9321\n"
     ]
    }
   ],
   "source": [
    "history = model.fit(\n",
    "    x=X_train_noisy, \n",
    "    y=X_train_clean,  \n",
    "    validation_data=(X_val_noisy, X_val_clean),  \n",
    "    epochs=20,  \n",
    "    batch_size=16, \n",
    "    verbose=1  # Shows progress bar during training\n",
    ")"
   ]
  },
  {
   "cell_type": "code",
   "execution_count": 21,
   "id": "18fa65ae",
   "metadata": {},
   "outputs": [],
   "source": [
    "model.save('unet_image_restoration.h5')"
   ]
  },
  {
   "cell_type": "code",
   "execution_count": null,
   "id": "6d6b731f",
   "metadata": {},
   "outputs": [],
   "source": [
    "test_loss, test_accuracy = model.evaluate(X_test_noisy, X_test_clean)"
   ]
  },
  {
   "cell_type": "code",
   "execution_count": 35,
   "id": "146d4880",
   "metadata": {},
   "outputs": [
    {
     "name": "stdout",
     "output_type": "stream",
     "text": [
      "Test loss: 0.38, Test accuracy: 0.62\n"
     ]
    }
   ],
   "source": [
    "test_loss, test_accuracy = score\n",
    "\n",
    "print(f\"Test loss: {test_loss}, Test accuracy: {test_accuracy}\")"
   ]
  },
  {
   "cell_type": "code",
   "execution_count": 23,
   "id": "ab852842",
   "metadata": {},
   "outputs": [
    {
     "data": {
      "image/png": "[encoded data removed]",
      "text/plain": [
       "<Figure size 1200x600 with 2 Axes>"
      ]
     },
     "metadata": {},
     "output_type": "display_data"
    }
   ],
   "source": [
    "import matplotlib.pyplot as plt\n",
    "\n",
    "plt.figure(figsize=(12, 6))\n",
    "\n",
    "plt.subplot(1, 2, 1)\n",
    "plt.plot(history.history['accuracy'])\n",
    "plt.plot(history.history['val_accuracy'])\n",
    "plt.title('Model accuracy')\n",
    "plt.ylabel('Accuracy')\n",
    "plt.xlabel('Epoch')\n",
    "plt.legend(['Train', 'Test'], loc='upper left')\n",
    "\n",
    "# Plot training & validation loss values\n",
    "plt.subplot(1, 2, 2)\n",
    "plt.plot(history.history['loss'])\n",
    "plt.plot(history.history['val_loss'])\n",
    "plt.title('Model loss')\n",
    "plt.ylabel('Loss')\n",
    "plt.xlabel('Epoch')\n",
    "plt.legend(['Train', 'Test'], loc='upper left')\n",
    "\n",
    "plt.show()"
   ]
  },
  {
   "cell_type": "code",
   "execution_count": 24,
   "id": "17bf6c7a",
   "metadata": {},
   "outputs": [
    {
     "name": "stdout",
     "output_type": "stream",
     "text": [
      "1/1 [==============================] - 1s 1s/step\n"
     ]
    },
    {
     "data": {
      "image/png": "[encoded data removed]",
      "text/plain": [
       "<Figure size 2000x400 with 4 Axes>"
      ]
     },
     "metadata": {},
     "output_type": "display_data"
    }
   ],
   "source": [
    "predicted_images = model.predict(X_test_noisy)\n",
    "\n",
    "# Visualize the results\n",
    "n = 2  # Number of images to show\n",
    "plt.figure(figsize=(20, 4))\n",
    "for i in range(n):\n",
    "    \n",
    "    # Display original noisy image\n",
    "    ax = plt.subplot(2, n, i + 1)\n",
    "    plt.imshow(X_test_noisy[i].reshape(256, 256, 3))\n",
    "    plt.gray()\n",
    "    ax.get_xaxis().set_visible(False)\n",
    "    ax.get_yaxis().set_visible(False)\n",
    "\n",
    "    \n",
    "    # Display reconstruction\n",
    "    ax = plt.subplot(2, n, i + 1 + n)\n",
    "    plt.imshow(predicted_images[i].reshape(256, 256, 3))\n",
    "    plt.gray()\n",
    "    ax.get_xaxis().set_visible(False)\n",
    "    ax.get_yaxis().set_visible(False)\n",
    "plt.show()"
   ]
  },
  {
   "cell_type": "code",
   "execution_count": null,
   "id": "cfcb3c56",
   "metadata": {},
   "outputs": [],
   "source": []
  }
 ],
 "metadata": {
  "kernelspec": {
   "display_name": "Python 3 (ipykernel)",
   "language": "python",
   "name": "python3"
  },
  "language_info": {
   "codemirror_mode": {
    "name": "ipython",
    "version": 3
   },
   "file_extension": ".py",
   "mimetype": "text/x-python",
   "name": "python",
   "nbconvert_exporter": "python",
   "pygments_lexer": "ipython3",
   "version": "3.9.13"
  }
 },
 "nbformat": 4,
 "nbformat_minor": 5
}
